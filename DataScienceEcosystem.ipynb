{
 "cells": [
  {
   "cell_type": "markdown",
   "id": "456a11c3-19a6-4bc8-a3d4-cdf8878e728a",
   "metadata": {},
   "source": [
    "# **Data Science Tools and Ecosystem**"
   ]
  },
  {
   "cell_type": "markdown",
   "id": "1fbda724-4c77-488c-9c56-17372a04efeb",
   "metadata": {},
   "source": [
    "## In this notebook, Data Science Tools and Ecosystem are summarized."
   ]
  },
  {
   "cell_type": "markdown",
   "id": "ea82a3b6-5af0-484c-b611-dc1d9178ebda",
   "metadata": {},
   "source": [
    "### **Objectives:**\n",
    "\n",
    "- List popular languages for data science;\n",
    "- List popular libraries used in data science;\n",
    "- Arithmetic expressions in Python."
   ]
  },
  {
   "cell_type": "markdown",
   "id": "943dfd4e-9125-43c7-8399-77d6ca78ca95",
   "metadata": {},
   "source": [
    "### Some of the popular languages that Data Scientists use are:"
   ]
  },
  {
   "cell_type": "markdown",
   "id": "701b0286-96c3-4db5-9cfb-b4c54e9e7f8f",
   "metadata": {},
   "source": [
    "1. Python\n",
    "2. Java\n",
    "3. C++\n",
    "4. Julia\n",
    "5. R\n",
    "6. SQL"
   ]
  },
  {
   "cell_type": "markdown",
   "id": "c36e95ec-f00d-4770-a99c-49d277194d0d",
   "metadata": {},
   "source": [
    "### Some of the commonly used libraries used by Data Scientists include:\n"
   ]
  },
  {
   "cell_type": "markdown",
   "id": "d0f6f5a0-938b-49bf-bf51-be1ded2858ba",
   "metadata": {},
   "source": [
    "1. Jupyter Notebook\n",
    "2. Pandas\n",
    "3. TensorFlow\n",
    "4. Matplotlib\n",
    "5. NumPy\n",
    "6. GGplot2"
   ]
  },
  {
   "cell_type": "markdown",
   "id": "11037dfa-1a7f-404c-b375-061a3192f4fc",
   "metadata": {},
   "source": [
    "| Data Science Tools |\n",
    "|--------------------|\n",
    "| Jupyter Lab |\n",
    "| Apache Spark |\n",
    "| Apache Hadoop |\n"
   ]
  },
  {
   "cell_type": "markdown",
   "id": "b1964566-80fd-43cd-933c-9a349f50e1c8",
   "metadata": {},
   "source": [
    "### Below are a few examples of evaluating arithmetic expressions in Python."
   ]
  },
  {
   "cell_type": "code",
   "execution_count": 6,
   "id": "71f99582-a7f0-4b13-a694-7bfed1e87a76",
   "metadata": {},
   "outputs": [
    {
     "data": {
      "text/plain": [
       "17"
      ]
     },
     "execution_count": 6,
     "metadata": {},
     "output_type": "execute_result"
    }
   ],
   "source": [
    "(3*4)+5"
   ]
  },
  {
   "cell_type": "markdown",
   "id": "992b8b03-db5b-4c41-b41c-81dee5acc9df",
   "metadata": {},
   "source": [
    "####  This a simple arithmetic expression to mutiply then add integers"
   ]
  },
  {
   "cell_type": "markdown",
   "id": "c1f1e444-964e-4b83-87eb-e887471554a7",
   "metadata": {},
   "source": [
    "#### This will convert 200 minutes to hours by diving by 60:"
   ]
  },
  {
   "cell_type": "code",
   "execution_count": 8,
   "id": "08e0fadc-a95e-40db-8269-d567a7c9ea41",
   "metadata": {},
   "outputs": [
    {
     "data": {
      "text/plain": [
       "3.3333333333333335"
      ]
     },
     "execution_count": 8,
     "metadata": {},
     "output_type": "execute_result"
    }
   ],
   "source": [
    "200/60"
   ]
  },
  {
   "cell_type": "markdown",
   "id": "95b22863-cf0b-4b16-9643-8ba2aa42901b",
   "metadata": {},
   "source": [
    "## Author"
   ]
  },
  {
   "cell_type": "markdown",
   "id": "3ed8fd68-a292-4820-869a-98af2ae6154a",
   "metadata": {},
   "source": [
    "Inês S."
   ]
  },
  {
   "cell_type": "code",
   "execution_count": null,
   "id": "0230bfc6-423c-47b6-a523-f74e05e149e7",
   "metadata": {},
   "outputs": [],
   "source": []
  },
  {
   "cell_type": "code",
   "execution_count": null,
   "id": "92ea3d60-4aca-4002-9196-32c33ed76b53",
   "metadata": {},
   "outputs": [],
   "source": []
  }
 ],
 "metadata": {
  "kernelspec": {
   "display_name": "Python 3 (ipykernel)",
   "language": "python",
   "name": "python3"
  },
  "language_info": {
   "codemirror_mode": {
    "name": "ipython",
    "version": 3
   },
   "file_extension": ".py",
   "mimetype": "text/x-python",
   "name": "python",
   "nbconvert_exporter": "python",
   "pygments_lexer": "ipython3",
   "version": "3.12.8"
  }
 },
 "nbformat": 4,
 "nbformat_minor": 5
}
